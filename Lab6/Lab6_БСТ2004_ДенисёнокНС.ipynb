{
  "cells": [
    {
      "cell_type": "markdown",
      "metadata": {
        "id": "0z3KlfKDn4_K"
      },
      "source": [
        "# Лабораторная работа 6. \n",
        "# Сетевые алгоритмы. Динамические алгоритмы поиска путей.\n"
      ]
    },
    {
      "cell_type": "markdown",
      "metadata": {
        "id": "96Gi_LEvmSVH"
      },
      "source": [
        "## Выполнил студент группы БСТ2004 Денисёнок Никита\n",
        "***"
      ]
    },
    {
      "cell_type": "markdown",
      "metadata": {
        "id": "GjdIp8aToKIe"
      },
      "source": [
        "### Задание\n",
        "\n",
        "1.  Реализовать алгоритм поиска кратчайшего расстояния между двумя вершинами ориентированного взвешенного графа в соответствии с вариантом. \n",
        "\n",
        "2.  Предусмотреть задание графа в виде матрицы смежности/инцидентности, читаемой из файла, либо графически с помощью пользовательского интерфейса. \n",
        "\n",
        "3.  Разработать графический интерфейс пользователя с визуализацией графа и отображением кратчайшего расстояния между задаваемыми пользователем вершинами.\n",
        "\n",
        "4. По результатам работы проанализировать временную сложность работы заданного алгоритма в зависимости от числа узлов и ребер графа.\n",
        "Данные представить в виде таблицы.\n",
        "\n"
      ]
    },
    {
      "cell_type": "markdown",
      "metadata": {
        "id": "LhhUXrAmotIA"
      },
      "source": [
        "### Варианты заданий:\n",
        "\n",
        "Вариант | Задание\n",
        ":-------- |:-----\n",
        "1, 7, 13, 19, 25 | Алгоритм Флойда-Уоршелла\n",
        "2, 8, 14, 20, 26 | Алгоритм Дейкстры\n",
        "3, 9,15,21,27 | Алгоритм Беллмана-Форда\n",
        "4, 10, 16, 22, 28 | Алгоритм Джонсона\n",
        "5, 11, 17, 23, 29| Алгоритм Левита\n",
        "6, 12, 18, 24, 30 | Алгоритм Йена\n",
        "\n"
      ]
    },
    {
      "cell_type": "markdown",
      "metadata": {
        "id": "Wggfn8l7nG72"
      },
      "source": [
        "### Выполнение:"
      ]
    },
    {
      "cell_type": "code",
      "execution_count": 73,
      "metadata": {
        "id": "681a95mZnOSa"
      },
      "outputs": [
        {
          "data": {
            "image/png": "[encoded data removed]",
            "text/plain": [
              "<Figure size 432x288 with 1 Axes>"
            ]
          },
          "metadata": {},
          "output_type": "display_data"
        },
        {
          "name": "stdout",
          "output_type": "stream",
          "text": [
            "Modified Graph: [[0, 0, 2, 4], [0, 0, 1, 3], [0, 10, 0, 0], [0, 0, 0, 0]]\n",
            "\n",
            "Shortest Distance with vertex 0 as the source:\n",
            "\n",
            "Vertex 0: 0\n",
            "Vertex 1: 0\n",
            "Vertex 2: 1\n",
            "Vertex 3: 1\n",
            "\n",
            "Shortest Distance with vertex 1 as the source:\n",
            "\n",
            "Vertex 0: 1\n",
            "Vertex 1: 0\n",
            "Vertex 2: 1\n",
            "Vertex 3: 1\n",
            "\n",
            "Shortest Distance with vertex 2 as the source:\n",
            "\n",
            "Vertex 0: 0\n",
            "Vertex 1: 0\n",
            "Vertex 2: 0\n",
            "Vertex 3: 0\n",
            "\n",
            "Shortest Distance with vertex 3 as the source:\n",
            "\n",
            "Vertex 0: 0\n",
            "Vertex 1: 0\n",
            "Vertex 2: 1\n",
            "Vertex 3: 0\n"
          ]
        }
      ],
      "source": [
        "from collections import defaultdict\n",
        "MAX_INT = float('Inf')\n",
        "  \n",
        "# Возвращает вершину с наименьшей стоимостью пути  \n",
        "# из исходной вершины\n",
        "def minDistance(dist, visited):\n",
        "  \n",
        "    minimum, minVertex = MAX_INT, 0\n",
        "    for vertex in range(len(dist)):\n",
        "        if minimum > dist[vertex] and visited[vertex] == False:\n",
        "            minimum, minVertex = dist[vertex], vertex\n",
        "    return minVertex\n",
        "  \n",
        "  \n",
        "# Алгоритм дийкстры (применяется к графу с уже положительными весами)\n",
        "def Dijkstra(graph, modifiedGraph, src):\n",
        "  \n",
        "    # количество вершин\n",
        "    numVertices = len(graph)\n",
        "  \n",
        "    # Словарь для проверки посещенных точек\n",
        "    sptSet = defaultdict(lambda : False)\n",
        "  \n",
        "    # в эту переменную записываются наименьшие стоимости маршрутов в каждую точку графа из текущей\n",
        "    dist = [MAX_INT] * numVertices\n",
        "  \n",
        "    dist[src] = 0\n",
        "    for count in range(numVertices):\n",
        "        # если текущая вершина не содержится в sptSet \n",
        "        # и при этом находится на минимальном расстоянии \n",
        "        # от источника\n",
        "        curVertex = minDistance(dist, sptSet)\n",
        "        sptSet[curVertex] = True\n",
        "\n",
        "        for vertex in range(numVertices):\n",
        "            if ((sptSet[vertex] == False) and (dist[vertex] > (dist[curVertex] + modifiedGraph[curVertex][vertex])) and (graph[curVertex][vertex] != 0)):  \n",
        "                dist[vertex] = (dist[curVertex] + modifiedGraph[curVertex][vertex])\n",
        "\n",
        "    \n",
        "    # выводим наименьшие стоимости маршрутов источника\n",
        "    for vertex in range(numVertices):\n",
        "        print ('Vertex ' + str(vertex) + ': ' + str(dist[vertex]))\n",
        "  \n",
        "# Функция для подсчета минимального арсстояния от добавленной мнимой вершины\n",
        "# до всех остальных с использованием Форда-Беллмана\n",
        "def BellmanFord(edges, numVertices):\n",
        "  \n",
        "    # добавляем вершину src\n",
        "    # и считаем стоимости маршрута до остальных\n",
        "    dist = [MAX_INT] * (numVertices + 1)\n",
        "    dist[numVertices] = 0\n",
        "  \n",
        "    for i in range(numVertices):\n",
        "        edges.append([numVertices, i, 0])\n",
        "  \n",
        "    for i in range(numVertices):\n",
        "        for (src, des, weight) in edges:\n",
        "            if((dist[src] != MAX_INT) and (dist[src] + weight < dist[des])):\n",
        "                dist[des] = dist[src] + weight\n",
        "  \n",
        "    # возвращаем список без нулевой мнимой вершины\n",
        "    return dist[0:numVertices]\n",
        "  \n",
        "# Непосредственно алгоритм джонсона\n",
        "def JohnsonAlgorithm(graph):\n",
        "  \n",
        "    edges = []\n",
        "  \n",
        "    # сздаем список вершин для алгоритма беллмана-форда\n",
        "    for i in range(len(graph)):\n",
        "        for j in range(len(graph[i])):\n",
        "  \n",
        "            if graph[i][j] != 0:\n",
        "                edges.append([i, j, graph[i][j]])\n",
        "  \n",
        "    # Список стоимостей пути от добавленной вершины к каждой вершине исходного графа\n",
        "    modifyWeights = BellmanFord(edges, len(graph))\n",
        "  \n",
        "    modifiedGraph = [[0 for x in range(len(graph))] for y in range(len(graph))]\n",
        "  \n",
        "    # избавляемся от отрицательных весов дуг\n",
        "    for i in range(len(graph)):\n",
        "        for j in range(len(graph[i])):\n",
        "  \n",
        "            if graph[i][j] != 0:\n",
        "                modifiedGraph[i][j] = (graph[i][j] + modifyWeights[i] - modifyWeights[j])\n",
        "  \n",
        "    print ('Modified Graph: ' + str(modifiedGraph))\n",
        "  \n",
        "    # Для каждой вершины запускаем алгоритм дийкстры\n",
        "    for src in range(len(graph)):\n",
        "        print ('\\nShortest Distance with vertex ' + str(src) + ' as the source:\\n')\n",
        "        Dijkstra(graph, modifiedGraph, src)\n",
        "\n",
        "\n",
        "# Вызовы\n",
        "with open('source.txt') as f:\n",
        "    graph = [list(map(int, row.split())) for row in f.readlines()]\n",
        "\n",
        "import networkx as nx \n",
        "G = nx.DiGraph()\n",
        "for i in range(len(graph)): \n",
        "    for j in  range (len(graph[i])): \n",
        "        if graph[i][j] != 0:\n",
        "            G.add_edge(i,j, weight=graph[i][j]) \n",
        "import matplotlib.pyplot as plt \n",
        "\n",
        "\n",
        "pos = nx.spring_layout(G, k = 10, seed = 154543) # pos = nx.nx_agraph.graphviz_layout(G)\n",
        "nx.draw_networkx(G,pos)\n",
        "labels = nx.get_edge_attributes(G,'weight')\n",
        "nx.draw_networkx_edge_labels(G, pos, edge_labels = labels)\n",
        "\n",
        "\n",
        "#plt.box()\n",
        "#plt.axis('off')\n",
        "plt.savefig('filename.png', dpi=300)\n",
        "plt.show() \n",
        "\n",
        "  \n",
        "JohnsonAlgorithm(graph)"
      ]
    },
    {
      "cell_type": "markdown",
      "metadata": {
        "id": "diOb-K7LnO5a"
      },
      "source": [
        "### Алгоритмическая сложность O(VE+ V^3)\n",
        "Поскольку слоность алгоритма Дийкстры для матрицы смежности V^2, <br/>\n",
        "а сложность алгоритма Форда-Беллмана VE.\n",
        "\n",
        "Количество вершин | Сложность\n",
        ":-------- |:-----\n",
        "4 | O(4E+64)\n",
        "5 | O(5E+125)\n",
        "6 | O(6E+216)\n",
        "7 | O(7E+343)\n",
        "8 | O(8E+512)\n",
        "9 | O(9E+729)"
      ]
    }
  ],
  "metadata": {
    "colab": {
      "name": "Lab6.ipynb",
      "provenance": []
    },
    "kernelspec": {
      "display_name": "Python 3",
      "name": "python3"
    },
    "language_info": {
      "codemirror_mode": {
        "name": "ipython",
        "version": 3
      },
      "file_extension": ".py",
      "mimetype": "text/x-python",
      "name": "python",
      "nbconvert_exporter": "python",
      "pygments_lexer": "ipython3",
      "version": "3.10.4"
    }
  },
  "nbformat": 4,
  "nbformat_minor": 0
}
