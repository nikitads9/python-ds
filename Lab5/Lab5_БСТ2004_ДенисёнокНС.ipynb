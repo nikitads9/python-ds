{
  "cells": [
    {
      "cell_type": "markdown",
      "metadata": {
        "id": "WPvB9TcMmKA6"
      },
      "source": [
        "# Лабораторная работа №5\n",
        "# Рекурсия. Фракталы."
      ]
    },
    {
      "cell_type": "markdown",
      "metadata": {
        "id": "96Gi_LEvmSVH"
      },
      "source": [
        "## Выполнил студент группы ФИО ГРУППА\n",
        "***"
      ]
    },
    {
      "cell_type": "markdown",
      "metadata": {
        "id": "4clYOyb0mbEv"
      },
      "source": [
        "### Задание:\n",
        "Реализовать генерацию заданного типа фрактала с применением рекурсивных функций.\n",
        "\n",
        "\n",
        "Добавить возможность задания глубины фрактала. \n",
        "\n",
        "\n",
        "Оценить глубину рекурсии. \n",
        "\n",
        "\n",
        "Построить таблицу зависимости времени построения от глубины фрактала."
      ]
    },
    {
      "cell_type": "markdown",
      "metadata": {
        "id": "wDXHbUmMmhRL"
      },
      "source": [
        "### Варианты заданий:\n",
        "\n",
        "Вариант | Задание\n",
        ":-------- |:-----\n",
        "1, 7, 13, 19, 25 | Кривая Коха\n",
        "2, 8, 14, 20, 26 | Кривая Гильберта\n",
        "3, 9,15,21,27 | Кривая Серпинского\n",
        "4, 10, 16, 22, 28 | Салфетка Серпинского\n",
        "5, 11, 17, 23, 29| Ковер Серпинского\n",
        "6, 12, 18, 24, 30 | Дерево Пифагора \n"
      ]
    },
    {
      "cell_type": "markdown",
      "metadata": {
        "id": "Wggfn8l7nG72"
      },
      "source": [
        "### Выполнение:"
      ]
    },
    {
      "cell_type": "code",
      "execution_count": 3,
      "metadata": {
        "id": "681a95mZnOSa"
      },
      "outputs": [
        {
          "name": "stdout",
          "output_type": "stream",
          "text": [
            "Отррисовка фрактала глубиной 4 : 20.31327680000686 сек\n"
          ]
        }
      ],
      "source": [
        "import time\n",
        "import turtle as t\n",
        "\n",
        "def triangle(points):\n",
        "    \"\"\"\n",
        "         Передаются координаты треугольника, которые затем отрисовываются\n",
        "    \"\"\"\n",
        "    t.penup()\n",
        "    t.goto(points[0])\n",
        "    t.pendown()\n",
        "    t.goto(points[1])\n",
        "    t.goto(points[2])\n",
        "    t.goto(points[0])\n",
        " \n",
        " \n",
        "def get_mid(a, b):\n",
        "    \"\"\"\n",
        "         Рассчитываются координаты средней точки, они возвращаются в виде списка\n",
        "    \"\"\"\n",
        "    x = (a[0] + b[0]) / 2\n",
        "    y = (a[1] + b[1]) / 2\n",
        "    return [x, y]\n",
        " \n",
        " \n",
        "def draw(points, i):\n",
        "    \"\"\"\n",
        "           Функция отрисовки треугольника Серпинского \\n\n",
        "         points: список координат трех точек \\n\n",
        "         i: глубина рекурсии\n",
        "    \"\"\"\n",
        "    # Рисуем треугольник\n",
        "    triangle(points)\n",
        "    if i > 0:\n",
        "        #Рисуем маленький треугольник слева\n",
        "        points2 = [points[0], get_mid(points[0], points[1]), get_mid(points[0], points[2])]\n",
        "        draw(points2, i - 1)\n",
        " \n",
        "        #Верхний треугольник\n",
        "        points3 = [get_mid(points[0], points[2]), get_mid(points[1], points[2]), points[2]]\n",
        "        draw(points3, i - 1)\n",
        "        \n",
        "        #Треугольник справа\n",
        "        points4 = [get_mid(points[0], points[1]), points[1], get_mid(points[1], points[2])]\n",
        "        draw(points4, i - 1)\n",
        "\n",
        "canvas = t.Screen()\n",
        "t.TurtleScreen._RUNNING = True\n",
        "#Рисуем название фрактала\n",
        "t.penup()\n",
        "t.left(90)\n",
        "t.forward(350)\n",
        "t.pendown()\n",
        "t.write (\"Салфетка Серпинского\", False, align = \"center\", font = (\" \", 20, \"normal\"))\n",
        "t.speed(5)\n",
        " \n",
        "# Начальные координаты треугольника\n",
        "points = [[-200, 0], [200, 0], [0, 300]]\n",
        "# Глубина рекурсии\n",
        "count = 4\n",
        "# Вызов функции рисования треугольника Серпинского\n",
        "start = time.perf_counter()\n",
        "draw(points, count)\n",
        "print(\"Отррисовка фрактала глубиной\", count, \":\", (time.perf_counter() - start), \"сек\")\n",
        "\n",
        "canvas.exitonclick()\n",
        "#t.bye()"
      ]
    },
    {
      "cell_type": "markdown",
      "metadata": {
        "id": "diOb-K7LnO5a"
      },
      "source": [
        "### Вывод\n",
        "| Глубина рекурсии | Время отрисовки | Процент прироста времени | \n",
        "| ---------------- | --------------- | ------------------------ | \n",
        "| 1 | 2.6857227 | 0% | \n",
        "| 2 | 5.1913025 | 94% | \n",
        "| 3 | 9.6737538 | 86% |\n",
        "| 4 | 19.2337848 | 98% |\n",
        "| 5 | 48.6585878 | 153% |   "
      ]
    }
  ],
  "metadata": {
    "colab": {
      "collapsed_sections": [],
      "name": "Lab5.ipynb",
      "provenance": []
    },
    "kernelspec": {
      "display_name": "Python 3",
      "name": "python3"
    },
    "language_info": {
      "codemirror_mode": {
        "name": "ipython",
        "version": 3
      },
      "file_extension": ".py",
      "mimetype": "text/x-python",
      "name": "python",
      "nbconvert_exporter": "python",
      "pygments_lexer": "ipython3",
      "version": "3.10.4"
    }
  },
  "nbformat": 4,
  "nbformat_minor": 0
}
